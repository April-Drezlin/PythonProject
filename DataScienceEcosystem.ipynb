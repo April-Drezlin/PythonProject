{
 "cells": [
  {
   "cell_type": "markdown",
   "id": "3f7e6af8-415a-49ac-ad8c-f3566aa3a293",
   "metadata": {},
   "source": [
    "# Data Science Tools and Ecosystem"
   ]
  },
  {
   "cell_type": "markdown",
   "id": "fcbd69b9-fc39-4031-9717-e0e1bc16968d",
   "metadata": {},
   "source": [
    "#In this notebook, Data Science Tools and Ecosystem are summarized. "
   ]
  },
  {
   "cell_type": "markdown",
   "id": "a182ca97-c923-439c-8557-c403e71a170c",
   "metadata": {},
   "source": [
    "#**Objectives**\n",
    "* List popular languages & libraries for data science.\n",
    "* Create a table of open-source data science tools.\n",
    "* Code basic arithmetic operations. "
   ]
  },
  {
   "cell_type": "markdown",
   "id": "4619d16b-c2f5-4bf4-aeb1-50387908c600",
   "metadata": {},
   "source": [
    "#Some of the popular languages that Data Scientists use are:\n",
    "1. Python\n",
    "2. R\n",
    "3. Julia\n",
    "4. SQL\n",
    "5. C++"
   ]
  },
  {
   "cell_type": "markdown",
   "id": "81d5729d-c310-49dc-ba98-e862d4fe40b6",
   "metadata": {},
   "source": [
    "#Some of the commonly used libraries used by Data Scientists include:\n",
    "1. NumPy\n",
    "2. Pandas\n",
    "3. MatPlotLib "
   ]
  },
  {
   "cell_type": "markdown",
   "id": "f81c7279-a299-4bad-a4e8-f0b9a74e7d96",
   "metadata": {},
   "source": [
    "#Data Science Tools:\n",
    "|Open Source Tools|\n",
    "|:---:|\n",
    "|Jupyter|\n",
    "|Hadoop|\n",
    "|GitHub|"
   ]
  },
  {
   "cell_type": "markdown",
   "id": "ca94c857-3dd8-4a90-8034-122180c0e67f",
   "metadata": {},
   "source": [
    "#   Below are a few examples of evaluating arithmetic expressions in Python:"
   ]
  },
  {
   "cell_type": "code",
   "execution_count": 1,
   "id": "a77a20bb-ab1a-434f-9aeb-900468a7af17",
   "metadata": {
    "tags": []
   },
   "outputs": [
    {
     "data": {
      "text/plain": [
       "17"
      ]
     },
     "execution_count": 1,
     "metadata": {},
     "output_type": "execute_result"
    }
   ],
   "source": [
    "# This is a simple arithmetic expression to multiply then add integers.\n",
    "(3*4)+5"
   ]
  },
  {
   "cell_type": "code",
   "execution_count": 2,
   "id": "189b6e01-a920-4fef-8bf0-d9993923da5e",
   "metadata": {
    "tags": []
   },
   "outputs": [
    {
     "data": {
      "text/plain": [
       "3.3333333333333335"
      ]
     },
     "execution_count": 2,
     "metadata": {},
     "output_type": "execute_result"
    }
   ],
   "source": [
    "# This will convert 200 minutes to hours by dividing by 60.\n",
    "200/60"
   ]
  },
  {
   "cell_type": "markdown",
   "id": "f2df4df0-cd6c-47be-9717-c5d9292b4bc3",
   "metadata": {},
   "source": [
    "#  Author\n",
    "April Driesslein"
   ]
  }
 ],
 "metadata": {
  "kernelspec": {
   "display_name": "Python",
   "language": "python",
   "name": "conda-env-python-py"
  },
  "language_info": {
   "codemirror_mode": {
    "name": "ipython",
    "version": 3
   },
   "file_extension": ".py",
   "mimetype": "text/x-python",
   "name": "python",
   "nbconvert_exporter": "python",
   "pygments_lexer": "ipython3",
   "version": "3.7.12"
  }
 },
 "nbformat": 4,
 "nbformat_minor": 5
}
